{
  "nbformat": 4,
  "nbformat_minor": 0,
  "metadata": {
    "colab": {
      "provenance": [],
      "authorship_tag": "ABX9TyMrcqrotScMD5U9q93eo87M",
      "include_colab_link": true
    },
    "kernelspec": {
      "name": "python3",
      "display_name": "Python 3"
    },
    "language_info": {
      "name": "python"
    }
  },
  "cells": [
    {
      "cell_type": "markdown",
      "metadata": {
        "id": "view-in-github",
        "colab_type": "text"
      },
      "source": [
        "<a href=\"https://colab.research.google.com/github/armandoscarpelin/Reconhecimento-de-Face/blob/main/Detector_de_Faces.ipynb\" target=\"_parent\"><img src=\"https://colab.research.google.com/assets/colab-badge.svg\" alt=\"Open In Colab\"/></a>"
      ]
    },
    {
      "cell_type": "code",
      "execution_count": null,
      "metadata": {
        "id": "N31rH9vfhG1Q"
      },
      "outputs": [],
      "source": [
        "# Passo 1: Instalar as bibliotecas necessárias\n",
        "!pip install opencv-python opencv-python-headless matplotlib\n",
        "\n",
        "# Passo 2: Importar as bibliotecas necessárias\n",
        "import cv2\n",
        "import numpy as np\n",
        "import matplotlib.pyplot as plt\n",
        "from google.colab import files\n",
        "\n",
        "# Passo 3: Solicitar upload da imagem de referência (Diego)\n",
        "print(\"Faça o upload da imagem de referência do Diego:\")\n",
        "uploaded_diego = files.upload()\n",
        "\n",
        "# Passo 4: Solicitar upload da imagem de teste (para localizar rostos)\n",
        "print(\"Agora, faça o upload da imagem de teste (aquela onde você quer localizar rostos):\")\n",
        "uploaded_test = files.upload()\n",
        "\n",
        "# Passo 5: Verificar se ambos os arquivos foram carregados\n",
        "diego_image_path = list(uploaded_diego.keys())[0]  # Imagem de referência\n",
        "test_image_path = list(uploaded_test.keys())[0]  # Imagem de teste\n",
        "\n",
        "# Carregar as imagens\n",
        "diego_image = cv2.imread(diego_image_path)\n",
        "test_image = cv2.imread(test_image_path)\n",
        "\n",
        "# Passo 6: Convertendo as imagens para escala de cinza\n",
        "diego_gray = cv2.cvtColor(diego_image, cv2.COLOR_BGR2GRAY)\n",
        "test_gray = cv2.cvtColor(test_image, cv2.COLOR_BGR2GRAY)\n",
        "\n",
        "# Passo 7: Carregar o classificador em cascata para detecção de rostos (OpenCV)\n",
        "face_cascade = cv2.CascadeClassifier(cv2.data.haarcascades + 'haarcascade_frontalface_default.xml')\n",
        "\n",
        "# Passo 8: Detectar rostos nas imagens\n",
        "diego_faces = face_cascade.detectMultiScale(diego_gray, scaleFactor=1.1, minNeighbors=5, minSize=(30, 30))\n",
        "test_faces = face_cascade.detectMultiScale(test_gray, scaleFactor=1.1, minNeighbors=5, minSize=(30, 30))\n",
        "\n",
        "# Passo 9: Selecione o rosto de Diego (assumindo que seja o único rosto na imagem de referência)\n",
        "if len(diego_faces) == 0:\n",
        "    raise ValueError(\"Nenhum rosto detectado na imagem de Diego.\")\n",
        "diego_face = diego_faces[0]  # Assumimos que há apenas um rosto (o de Diego)\n",
        "x, y, w, h = diego_face\n",
        "diego_face_roi = diego_gray[y:y+h, x:x+w]\n",
        "\n",
        "# Passo 10: Comparar os rostos na imagem de teste\n",
        "results = []\n",
        "for (x, y, w, h) in test_faces:\n",
        "    test_face_roi = test_gray[y:y+h, x:x+w]\n",
        "\n",
        "    # Usar método simples de comparação de rostos (por exemplo, histograma)\n",
        "    diego_hist = cv2.calcHist([diego_face_roi], [0], None, [256], [0, 256])\n",
        "    test_hist = cv2.calcHist([test_face_roi], [0], None, [256], [0, 256])\n",
        "\n",
        "    # Normalizar os histogramas\n",
        "    cv2.normalize(diego_hist, diego_hist)\n",
        "    cv2.normalize(test_hist, test_hist)\n",
        "\n",
        "    # Comparar os histogramas (menor valor de comparação significa maior similaridade)\n",
        "    comparison = cv2.compareHist(diego_hist, test_hist, cv2.HISTCMP_CORREL)\n",
        "\n",
        "    # Definir um limiar para considerar um rosto como \"Diego\"\n",
        "    if comparison > 0.8:  # Ajuste o limiar conforme necessário\n",
        "        results.append(\"Diego\")\n",
        "    else:\n",
        "        results.append(\"Outro Resultado\")\n",
        "\n",
        "# Passo 11: Exibir os resultados e desenhar os rostos na imagem de teste\n",
        "fig, ax = plt.subplots(figsize=(10, 10))\n",
        "ax.imshow(cv2.cvtColor(test_image, cv2.COLOR_BGR2RGB))\n",
        "\n",
        "# Passo 12: Desenhar as caixas delimitadoras e adicionar os nomes\n",
        "for i, (x, y, w, h) in enumerate(test_faces):\n",
        "    if results[i] == \"Diego\":\n",
        "        # Caixa verde para o rosto de Diego\n",
        "        ax.add_patch(plt.Rectangle((x, y), w, h, fill=False, edgecolor='green', linewidth=2))\n",
        "        ax.text(x, y - 10, results[i], color='green', fontsize=12)\n",
        "    else:\n",
        "        # Caixa vermelha para outros rostos\n",
        "        ax.add_patch(plt.Rectangle((x, y), w, h, fill=False, edgecolor='red', linewidth=2))\n",
        "        ax.text(x, y - 10, results[i], color='red', fontsize=12)\n",
        "\n",
        "plt.axis('off')\n",
        "plt.show()\n"
      ]
    }
  ]
}